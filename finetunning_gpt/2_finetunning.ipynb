{
 "cells": [
  {
   "cell_type": "markdown",
   "id": "0475f8a4",
   "metadata": {},
   "source": [
    "Preparing Data for Fine-Tuning OpenAI Models"
   ]
  },
  {
   "cell_type": "markdown",
   "id": "57123c10",
   "metadata": {},
   "source": [
    "{\n",
    "  \"messages\": [\n",
    "    {\n",
    "      \"role\": \"system\",\n",
    "      \"content\": \"Extract Details from medical report\"\n",
    "    },\n",
    "    {\n",
    "      \"role\": \"user\", \n",
    "      \"content\": \"Sarah Johnson, a 32-year-old female, presented to the clinic with complaints of severe migraine headaches occurring 3-4 times per week for the past 3 months. Patient reports throbbing pain on the right side of head, accompanied by photophobia and nausea. No previous history of migraines. Family history positive for migraines (mother). Physical examination revealed normal neurological findings. Blood pressure 118/76 mmHg. Prescribed Sumatriptan 50mg for acute episodes, with instructions to take at onset of symptoms.\"\n",
    "    },\n",
    "    {\n",
    "      \"role\": \"assistant\",\n",
    "      \"content\": \"{\\\"patient name\\\": \\\"Sarah Johnson\\\", \\\"age\\\": 32, \\\"diagnosis\\\": \\\"migraine headaches\\\", \\\"prescribed medication\\\": \\\"Sumatriptan\\\"}\"\n",
    "    }\n",
    "  ]\n",
    "}\n"
   ]
  },
  {
   "cell_type": "markdown",
   "id": "6aa9c3c8",
   "metadata": {},
   "source": [
    "Converting CSV to JSONL Format"
   ]
  },
  {
   "cell_type": "code",
   "execution_count": null,
   "id": "5005d9c9",
   "metadata": {},
   "outputs": [],
   "source": [
    "import csv\n",
    "import json\n",
    "\n",
    "def convert_csv_to_training_format(input_csv, output_file):\n",
    "    system_message = {\n",
    "        \"role\": \"system\",\n",
    "        \"content\": \"Extract Details from medical report\"\n",
    "    }\n",
    "\n",
    "    with open(input_csv, 'r', encoding='utf-8') as csvfile, \\\n",
    "         open(output_file, 'w', encoding='utf-8') as outfile:\n",
    "        reader = csv.reader(csvfile)\n",
    "        next(reader)  # Skip header\n",
    "\n",
    "        for row in reader:\n",
    "            medical_report = row[0]\n",
    "            extracted_json = row[1]\n",
    "\n",
    "            training_example = {\n",
    "                \"messages\": [\n",
    "                    system_message,\n",
    "                    {\"role\": \"user\", \"content\": medical_report},\n",
    "                    {\"role\": \"assistant\", \"content\": extracted_json}\n",
    "                ]\n",
    "            }\n",
    "            outfile.write(json.dumps(training_example) + '\\n')\n"
   ]
  },
  {
   "cell_type": "markdown",
   "id": "1e79ff45",
   "metadata": {},
   "source": [
    "Creating Training and Validation Sets"
   ]
  },
  {
   "cell_type": "code",
   "execution_count": null,
   "id": "d64f9b57",
   "metadata": {},
   "outputs": [],
   "source": [
    "# Prepare training data\n",
    "convert_csv_to_training_format(\"medical-records.csv\", \"training_data.jsonl\")\n",
    "\n",
    "# Prepare validation data\n",
    "convert_csv_to_training_format(\"validation-medical-records.csv\", \"validation_data.jsonl\")\n"
   ]
  },
  {
   "cell_type": "markdown",
   "id": "a5f0dbf7",
   "metadata": {},
   "source": [
    "Initial Setup with OpenAI"
   ]
  },
  {
   "cell_type": "code",
   "execution_count": null,
   "id": "b6a51010",
   "metadata": {},
   "outputs": [],
   "source": [
    "from openai import OpenAI\n",
    "from time import sleep\n",
    "\n",
    "# Initialize OpenAI client\n",
    "client = OpenAI(api_key = your_api_key)\n"
   ]
  },
  {
   "cell_type": "markdown",
   "id": "42cb036b",
   "metadata": {},
   "source": [
    "Step 1: Uploading Training Files"
   ]
  },
  {
   "cell_type": "code",
   "execution_count": null,
   "id": "4b024f6d",
   "metadata": {},
   "outputs": [],
   "source": [
    "def upload_training_file(file_path):\n",
    "    \"\"\"Upload training file to OpenAI\"\"\"\n",
    "    with open(file_path, \"rb\") as file:\n",
    "        response = client.files.create(\n",
    "            file=file,\n",
    "            purpose=\"fine-tune\"\n",
    "        )\n",
    "        return response.id\n",
    "\n",
    "# Upload both training and validation files\n",
    "training_file_id = upload_training_file(\"training_data.jsonl\")\n",
    "validation_file_id = upload_training_file(\"validation_data.jsonl\")\n"
   ]
  },
  {
   "cell_type": "markdown",
   "id": "989cf2bb",
   "metadata": {},
   "source": [
    "Step 2: Creating a Fine-Tuning Job"
   ]
  },
  {
   "cell_type": "code",
   "execution_count": null,
   "id": "39c6a691",
   "metadata": {},
   "outputs": [],
   "source": [
    "def create_fine_tuning_job(training_file_id, validation_file_id=None, model=\"gpt-4o-mini-2024-07-18\"):\n",
    "    \"\"\"Create a fine-tuning job\"\"\"\n",
    "    response = client.fine_tuning.jobs.create(\n",
    "        training_file=training_file_id,\n",
    "        validation_file=validation_file_id,\n",
    "        model=model,\n",
    "        hyperparameters={\n",
    "            \"n_epochs\": 4,\n",
    "            \"batch_size\": 8, #Can update the parameters according to requirement \n",
    "            \"learning_rate_multiplier\": 1.2\n",
    "    }\n",
    "    )\n",
    "    return response.id\n",
    "\n",
    "# Start the fine-tuning job\n",
    "job_id = create_fine_tuning_job(training_file_id, validation_file_id, model)\n"
   ]
  },
  {
   "cell_type": "markdown",
   "id": "9e8ea462",
   "metadata": {},
   "source": [
    "Step 3: Monitoring Training Progress"
   ]
  },
  {
   "cell_type": "code",
   "execution_count": null,
   "id": "fc7bee6b",
   "metadata": {},
   "outputs": [],
   "source": [
    "def monitor_job(job_id):\n",
    "    \"\"\"Monitor fine-tuning job progress\"\"\"\n",
    "    while True:\n",
    "        job = client.fine_tuning.jobs.retrieve(job_id)\n",
    "        print(f\"Status: {job.status}\")\n",
    "\n",
    "        if job.status in [\"succeeded\", \"failed\"]:\n",
    "            return job\n",
    "\n",
    "        # List latest events\n",
    "        events = client.fine_tuning.jobs.list_events(\n",
    "            fine_tuning_job_id=job_id,\n",
    "            limit=5\n",
    "        )\n",
    "        for event in events.data:\n",
    "            print(f\"Event: {event.message}\")\n",
    "\n",
    "        sleep(30)  # Check every 30 seconds\n",
    "\n",
    "# Monitor the job until completion\n",
    "job = monitor_job(job_id)\n",
    "if job.status == \"succeeded\":\n",
    "    fine_tuned_model = job.fine_tuned_model\n",
    "    print(f\"Fine-tuned model ID: {fine_tuned_model}\")\n",
    "else:\n",
    "    print(\"Fine-tuning failed.\")\n"
   ]
  },
  {
   "cell_type": "markdown",
   "id": "c82a41cc",
   "metadata": {},
   "source": [
    "#Testing and Using Your Fine-Tuned Model"
   ]
  },
  {
   "cell_type": "code",
   "execution_count": null,
   "id": "8802e536",
   "metadata": {},
   "outputs": [],
   "source": [
    "def test_model(model_id, test_input):\n",
    "    \"\"\"Test the fine-tuned model\"\"\"\n",
    "    completion = client.chat.completions.create(\n",
    "        model=model_id,\n",
    "        messages=[\n",
    "            {\n",
    "                \"role\": \"system\",\n",
    "                \"content\": \"what you actually want from system write here\"\n",
    "            },\n",
    "            {\"role\": \"user\", \"content\": test_input}\n",
    "        ]\n",
    "    )\n",
    "    return completion.choices[0].message\n"
   ]
  },
  {
   "cell_type": "code",
   "execution_count": null,
   "id": "7e0bb845",
   "metadata": {},
   "outputs": [],
   "source": [
    "# Test input\n",
    "test_report = \"\"\"Marcus Wong, a 19-year-old male, presents with severe acne \n",
    "on face and upper back present for 1 year. Multiple inflammatory papules \n",
    "and nodules noted on examination. Previous trials of over-the-counter \n",
    "treatments ineffective. Started on Isotretinoin 40mg daily with monthly \n",
    "liver function monitoring.\"\"\"\n",
    "\n",
    "# Get prediction\n",
    "result = test_model(fine_tuned_model, test_report)\n",
    "\n",
    "# Parse the JSON response\n",
    "import json\n",
    "extracted_data = json.loads(result.content)\n",
    "print(json.dumps(extracted_data, indent=2))\n"
   ]
  },
  {
   "cell_type": "markdown",
   "id": "5d238e1e",
   "metadata": {},
   "source": [
    "NOTES:\n",
    "\n",
    "1->We can directly use the openAI platform for finetuning\n",
    "\n",
    "2->api key should have billing account\n",
    "\n",
    "3->you can also update its hyperparameters\n",
    "\n",
    "4->data file should be jsonl \n",
    "\n",
    "5->there are so many others models also available for finetunning check on open AI platform \n",
    "\n"
   ]
  }
 ],
 "metadata": {
  "kernelspec": {
   "display_name": ".venv",
   "language": "python",
   "name": "python3"
  },
  "language_info": {
   "name": "python",
   "version": "3.12.4"
  }
 },
 "nbformat": 4,
 "nbformat_minor": 5
}
