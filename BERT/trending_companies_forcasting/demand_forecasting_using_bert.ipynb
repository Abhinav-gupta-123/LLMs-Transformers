{
 "cells": [
  {
   "cell_type": "markdown",
   "metadata": {},
   "source": [
    "DATASET :https://www.kaggle.com/datasets/PromptCloudHQ/amazon-reviews-unlocked-mobile-phones"
   ]
  },
  {
   "cell_type": "code",
   "execution_count": 2,
   "metadata": {},
   "outputs": [
    {
     "name": "stdout",
     "output_type": "stream",
     "text": [
      "Requirement already satisfied: torch in c:\\users\\abhin\\desktop\\.venv\\lib\\site-packages (2.6.0+cu118)\n",
      "Requirement already satisfied: transformers in c:\\users\\abhin\\desktop\\.venv\\lib\\site-packages (4.49.0)\n",
      "Requirement already satisfied: datasets in c:\\users\\abhin\\desktop\\.venv\\lib\\site-packages (3.4.1)\n",
      "Requirement already satisfied: scikit-learn in c:\\users\\abhin\\desktop\\.venv\\lib\\site-packages (1.6.1)\n",
      "Requirement already satisfied: pandas in c:\\users\\abhin\\desktop\\.venv\\lib\\site-packages (2.2.3)\n",
      "Requirement already satisfied: matplotlib in c:\\users\\abhin\\desktop\\.venv\\lib\\site-packages (3.10.0)\n",
      "Requirement already satisfied: seaborn in c:\\users\\abhin\\desktop\\.venv\\lib\\site-packages (0.13.2)\n",
      "Requirement already satisfied: filelock in c:\\users\\abhin\\desktop\\.venv\\lib\\site-packages (from torch) (3.17.0)\n",
      "Requirement already satisfied: typing-extensions>=4.10.0 in c:\\users\\abhin\\desktop\\.venv\\lib\\site-packages (from torch) (4.12.2)\n",
      "Requirement already satisfied: networkx in c:\\users\\abhin\\desktop\\.venv\\lib\\site-packages (from torch) (3.4.2)\n",
      "Requirement already satisfied: jinja2 in c:\\users\\abhin\\desktop\\.venv\\lib\\site-packages (from torch) (3.1.5)\n",
      "Requirement already satisfied: fsspec in c:\\users\\abhin\\desktop\\.venv\\lib\\site-packages (from torch) (2024.12.0)\n",
      "Requirement already satisfied: setuptools in c:\\users\\abhin\\desktop\\.venv\\lib\\site-packages (from torch) (78.0.2)\n",
      "Requirement already satisfied: sympy==1.13.1 in c:\\users\\abhin\\desktop\\.venv\\lib\\site-packages (from torch) (1.13.1)\n",
      "Requirement already satisfied: mpmath<1.4,>=1.1.0 in c:\\users\\abhin\\desktop\\.venv\\lib\\site-packages (from sympy==1.13.1->torch) (1.3.0)\n",
      "Requirement already satisfied: huggingface-hub<1.0,>=0.26.0 in c:\\users\\abhin\\desktop\\.venv\\lib\\site-packages (from transformers) (0.29.1)\n",
      "Requirement already satisfied: numpy>=1.17 in c:\\users\\abhin\\desktop\\.venv\\lib\\site-packages (from transformers) (1.26.4)\n",
      "Requirement already satisfied: packaging>=20.0 in c:\\users\\abhin\\desktop\\.venv\\lib\\site-packages (from transformers) (24.2)\n",
      "Requirement already satisfied: pyyaml>=5.1 in c:\\users\\abhin\\desktop\\.venv\\lib\\site-packages (from transformers) (6.0.2)\n",
      "Requirement already satisfied: regex!=2019.12.17 in c:\\users\\abhin\\desktop\\.venv\\lib\\site-packages (from transformers) (2024.11.6)\n",
      "Requirement already satisfied: requests in c:\\users\\abhin\\desktop\\.venv\\lib\\site-packages (from transformers) (2.32.3)\n",
      "Requirement already satisfied: tokenizers<0.22,>=0.21 in c:\\users\\abhin\\desktop\\.venv\\lib\\site-packages (from transformers) (0.21.0)\n",
      "Requirement already satisfied: safetensors>=0.4.1 in c:\\users\\abhin\\desktop\\.venv\\lib\\site-packages (from transformers) (0.5.3)\n",
      "Requirement already satisfied: tqdm>=4.27 in c:\\users\\abhin\\desktop\\.venv\\lib\\site-packages (from transformers) (4.67.1)\n",
      "Requirement already satisfied: pyarrow>=15.0.0 in c:\\users\\abhin\\desktop\\.venv\\lib\\site-packages (from datasets) (19.0.1)\n",
      "Requirement already satisfied: dill<0.3.9,>=0.3.0 in c:\\users\\abhin\\desktop\\.venv\\lib\\site-packages (from datasets) (0.3.8)\n",
      "Requirement already satisfied: xxhash in c:\\users\\abhin\\desktop\\.venv\\lib\\site-packages (from datasets) (3.5.0)\n",
      "Requirement already satisfied: multiprocess<0.70.17 in c:\\users\\abhin\\desktop\\.venv\\lib\\site-packages (from datasets) (0.70.16)\n",
      "Requirement already satisfied: aiohttp in c:\\users\\abhin\\desktop\\.venv\\lib\\site-packages (from datasets) (3.11.14)\n",
      "Requirement already satisfied: scipy>=1.6.0 in c:\\users\\abhin\\desktop\\.venv\\lib\\site-packages (from scikit-learn) (1.13.1)\n",
      "Requirement already satisfied: joblib>=1.2.0 in c:\\users\\abhin\\desktop\\.venv\\lib\\site-packages (from scikit-learn) (1.4.2)\n",
      "Requirement already satisfied: threadpoolctl>=3.1.0 in c:\\users\\abhin\\desktop\\.venv\\lib\\site-packages (from scikit-learn) (3.5.0)\n",
      "Requirement already satisfied: python-dateutil>=2.8.2 in c:\\users\\abhin\\desktop\\.venv\\lib\\site-packages (from pandas) (2.9.0.post0)\n",
      "Requirement already satisfied: pytz>=2020.1 in c:\\users\\abhin\\desktop\\.venv\\lib\\site-packages (from pandas) (2025.2)\n",
      "Requirement already satisfied: tzdata>=2022.7 in c:\\users\\abhin\\desktop\\.venv\\lib\\site-packages (from pandas) (2025.2)\n",
      "Requirement already satisfied: contourpy>=1.0.1 in c:\\users\\abhin\\desktop\\.venv\\lib\\site-packages (from matplotlib) (1.3.1)\n",
      "Requirement already satisfied: cycler>=0.10 in c:\\users\\abhin\\desktop\\.venv\\lib\\site-packages (from matplotlib) (0.12.1)\n",
      "Requirement already satisfied: fonttools>=4.22.0 in c:\\users\\abhin\\desktop\\.venv\\lib\\site-packages (from matplotlib) (4.56.0)\n",
      "Requirement already satisfied: kiwisolver>=1.3.1 in c:\\users\\abhin\\desktop\\.venv\\lib\\site-packages (from matplotlib) (1.4.8)\n",
      "Requirement already satisfied: pillow>=8 in c:\\users\\abhin\\desktop\\.venv\\lib\\site-packages (from matplotlib) (11.1.0)\n",
      "Requirement already satisfied: pyparsing>=2.3.1 in c:\\users\\abhin\\desktop\\.venv\\lib\\site-packages (from matplotlib) (3.2.1)\n",
      "Requirement already satisfied: aiohappyeyeballs>=2.3.0 in c:\\users\\abhin\\desktop\\.venv\\lib\\site-packages (from aiohttp->datasets) (2.6.1)\n",
      "Requirement already satisfied: aiosignal>=1.1.2 in c:\\users\\abhin\\desktop\\.venv\\lib\\site-packages (from aiohttp->datasets) (1.3.2)\n",
      "Requirement already satisfied: attrs>=17.3.0 in c:\\users\\abhin\\desktop\\.venv\\lib\\site-packages (from aiohttp->datasets) (25.3.0)\n",
      "Requirement already satisfied: frozenlist>=1.1.1 in c:\\users\\abhin\\desktop\\.venv\\lib\\site-packages (from aiohttp->datasets) (1.5.0)\n",
      "Requirement already satisfied: multidict<7.0,>=4.5 in c:\\users\\abhin\\desktop\\.venv\\lib\\site-packages (from aiohttp->datasets) (6.2.0)\n",
      "Requirement already satisfied: propcache>=0.2.0 in c:\\users\\abhin\\desktop\\.venv\\lib\\site-packages (from aiohttp->datasets) (0.3.0)\n",
      "Requirement already satisfied: yarl<2.0,>=1.17.0 in c:\\users\\abhin\\desktop\\.venv\\lib\\site-packages (from aiohttp->datasets) (1.18.3)\n",
      "Requirement already satisfied: six>=1.5 in c:\\users\\abhin\\desktop\\.venv\\lib\\site-packages (from python-dateutil>=2.8.2->pandas) (1.17.0)\n",
      "Requirement already satisfied: charset-normalizer<4,>=2 in c:\\users\\abhin\\desktop\\.venv\\lib\\site-packages (from requests->transformers) (3.4.1)\n",
      "Requirement already satisfied: idna<4,>=2.5 in c:\\users\\abhin\\desktop\\.venv\\lib\\site-packages (from requests->transformers) (3.10)\n",
      "Requirement already satisfied: urllib3<3,>=1.21.1 in c:\\users\\abhin\\desktop\\.venv\\lib\\site-packages (from requests->transformers) (2.3.0)\n",
      "Requirement already satisfied: certifi>=2017.4.17 in c:\\users\\abhin\\desktop\\.venv\\lib\\site-packages (from requests->transformers) (2025.1.31)\n",
      "Requirement already satisfied: colorama in c:\\users\\abhin\\desktop\\.venv\\lib\\site-packages (from tqdm>=4.27->transformers) (0.4.6)\n",
      "Requirement already satisfied: MarkupSafe>=2.0 in c:\\users\\abhin\\desktop\\.venv\\lib\\site-packages (from jinja2->torch) (3.0.2)\n",
      "Note: you may need to restart the kernel to use updated packages.\n"
     ]
    }
   ],
   "source": [
    "%pip install torch transformers datasets scikit-learn pandas matplotlib seaborn\n"
   ]
  },
  {
   "cell_type": "code",
   "execution_count": 1,
   "metadata": {},
   "outputs": [
    {
     "data": {
      "text/html": [
       "<div>\n",
       "<style scoped>\n",
       "    .dataframe tbody tr th:only-of-type {\n",
       "        vertical-align: middle;\n",
       "    }\n",
       "\n",
       "    .dataframe tbody tr th {\n",
       "        vertical-align: top;\n",
       "    }\n",
       "\n",
       "    .dataframe thead th {\n",
       "        text-align: right;\n",
       "    }\n",
       "</style>\n",
       "<table border=\"1\" class=\"dataframe\">\n",
       "  <thead>\n",
       "    <tr style=\"text-align: right;\">\n",
       "      <th></th>\n",
       "      <th>Product Name</th>\n",
       "      <th>Brand Name</th>\n",
       "      <th>Price</th>\n",
       "      <th>Rating</th>\n",
       "      <th>Reviews</th>\n",
       "      <th>Review Votes</th>\n",
       "    </tr>\n",
       "  </thead>\n",
       "  <tbody>\n",
       "    <tr>\n",
       "      <th>0</th>\n",
       "      <td>\"CLEAR CLEAN ESN\" Sprint EPIC 4G Galaxy SPH-D7...</td>\n",
       "      <td>Samsung</td>\n",
       "      <td>199.99</td>\n",
       "      <td>5</td>\n",
       "      <td>I feel so LUCKY to have found this used (phone...</td>\n",
       "      <td>1.0</td>\n",
       "    </tr>\n",
       "    <tr>\n",
       "      <th>1</th>\n",
       "      <td>\"CLEAR CLEAN ESN\" Sprint EPIC 4G Galaxy SPH-D7...</td>\n",
       "      <td>Samsung</td>\n",
       "      <td>199.99</td>\n",
       "      <td>4</td>\n",
       "      <td>nice phone, nice up grade from my pantach revu...</td>\n",
       "      <td>0.0</td>\n",
       "    </tr>\n",
       "    <tr>\n",
       "      <th>2</th>\n",
       "      <td>\"CLEAR CLEAN ESN\" Sprint EPIC 4G Galaxy SPH-D7...</td>\n",
       "      <td>Samsung</td>\n",
       "      <td>199.99</td>\n",
       "      <td>5</td>\n",
       "      <td>Very pleased</td>\n",
       "      <td>0.0</td>\n",
       "    </tr>\n",
       "    <tr>\n",
       "      <th>3</th>\n",
       "      <td>\"CLEAR CLEAN ESN\" Sprint EPIC 4G Galaxy SPH-D7...</td>\n",
       "      <td>Samsung</td>\n",
       "      <td>199.99</td>\n",
       "      <td>4</td>\n",
       "      <td>It works good but it goes slow sometimes but i...</td>\n",
       "      <td>0.0</td>\n",
       "    </tr>\n",
       "    <tr>\n",
       "      <th>4</th>\n",
       "      <td>\"CLEAR CLEAN ESN\" Sprint EPIC 4G Galaxy SPH-D7...</td>\n",
       "      <td>Samsung</td>\n",
       "      <td>199.99</td>\n",
       "      <td>4</td>\n",
       "      <td>Great phone to replace my lost phone. The only...</td>\n",
       "      <td>0.0</td>\n",
       "    </tr>\n",
       "    <tr>\n",
       "      <th>...</th>\n",
       "      <td>...</td>\n",
       "      <td>...</td>\n",
       "      <td>...</td>\n",
       "      <td>...</td>\n",
       "      <td>...</td>\n",
       "      <td>...</td>\n",
       "    </tr>\n",
       "    <tr>\n",
       "      <th>413835</th>\n",
       "      <td>Samsung Convoy U640 Phone for Verizon Wireless...</td>\n",
       "      <td>Samsung</td>\n",
       "      <td>79.95</td>\n",
       "      <td>5</td>\n",
       "      <td>another great deal great price</td>\n",
       "      <td>0.0</td>\n",
       "    </tr>\n",
       "    <tr>\n",
       "      <th>413836</th>\n",
       "      <td>Samsung Convoy U640 Phone for Verizon Wireless...</td>\n",
       "      <td>Samsung</td>\n",
       "      <td>79.95</td>\n",
       "      <td>3</td>\n",
       "      <td>Ok</td>\n",
       "      <td>0.0</td>\n",
       "    </tr>\n",
       "    <tr>\n",
       "      <th>413837</th>\n",
       "      <td>Samsung Convoy U640 Phone for Verizon Wireless...</td>\n",
       "      <td>Samsung</td>\n",
       "      <td>79.95</td>\n",
       "      <td>5</td>\n",
       "      <td>Passes every drop test onto porcelain tile!</td>\n",
       "      <td>0.0</td>\n",
       "    </tr>\n",
       "    <tr>\n",
       "      <th>413838</th>\n",
       "      <td>Samsung Convoy U640 Phone for Verizon Wireless...</td>\n",
       "      <td>Samsung</td>\n",
       "      <td>79.95</td>\n",
       "      <td>3</td>\n",
       "      <td>I returned it because it did not meet my needs...</td>\n",
       "      <td>0.0</td>\n",
       "    </tr>\n",
       "    <tr>\n",
       "      <th>413839</th>\n",
       "      <td>Samsung Convoy U640 Phone for Verizon Wireless...</td>\n",
       "      <td>Samsung</td>\n",
       "      <td>79.95</td>\n",
       "      <td>4</td>\n",
       "      <td>Only downside is that apparently Verizon no lo...</td>\n",
       "      <td>0.0</td>\n",
       "    </tr>\n",
       "  </tbody>\n",
       "</table>\n",
       "<p>413840 rows × 6 columns</p>\n",
       "</div>"
      ],
      "text/plain": [
       "                                             Product Name Brand Name   Price  \\\n",
       "0       \"CLEAR CLEAN ESN\" Sprint EPIC 4G Galaxy SPH-D7...    Samsung  199.99   \n",
       "1       \"CLEAR CLEAN ESN\" Sprint EPIC 4G Galaxy SPH-D7...    Samsung  199.99   \n",
       "2       \"CLEAR CLEAN ESN\" Sprint EPIC 4G Galaxy SPH-D7...    Samsung  199.99   \n",
       "3       \"CLEAR CLEAN ESN\" Sprint EPIC 4G Galaxy SPH-D7...    Samsung  199.99   \n",
       "4       \"CLEAR CLEAN ESN\" Sprint EPIC 4G Galaxy SPH-D7...    Samsung  199.99   \n",
       "...                                                   ...        ...     ...   \n",
       "413835  Samsung Convoy U640 Phone for Verizon Wireless...    Samsung   79.95   \n",
       "413836  Samsung Convoy U640 Phone for Verizon Wireless...    Samsung   79.95   \n",
       "413837  Samsung Convoy U640 Phone for Verizon Wireless...    Samsung   79.95   \n",
       "413838  Samsung Convoy U640 Phone for Verizon Wireless...    Samsung   79.95   \n",
       "413839  Samsung Convoy U640 Phone for Verizon Wireless...    Samsung   79.95   \n",
       "\n",
       "        Rating                                            Reviews  \\\n",
       "0            5  I feel so LUCKY to have found this used (phone...   \n",
       "1            4  nice phone, nice up grade from my pantach revu...   \n",
       "2            5                                       Very pleased   \n",
       "3            4  It works good but it goes slow sometimes but i...   \n",
       "4            4  Great phone to replace my lost phone. The only...   \n",
       "...        ...                                                ...   \n",
       "413835       5                     another great deal great price   \n",
       "413836       3                                                 Ok   \n",
       "413837       5        Passes every drop test onto porcelain tile!   \n",
       "413838       3  I returned it because it did not meet my needs...   \n",
       "413839       4  Only downside is that apparently Verizon no lo...   \n",
       "\n",
       "        Review Votes  \n",
       "0                1.0  \n",
       "1                0.0  \n",
       "2                0.0  \n",
       "3                0.0  \n",
       "4                0.0  \n",
       "...              ...  \n",
       "413835           0.0  \n",
       "413836           0.0  \n",
       "413837           0.0  \n",
       "413838           0.0  \n",
       "413839           0.0  \n",
       "\n",
       "[413840 rows x 6 columns]"
      ]
     },
     "execution_count": 1,
     "metadata": {},
     "output_type": "execute_result"
    }
   ],
   "source": [
    "import pandas as pd\n",
    "df=pd.read_csv('Amazon_Unlocked_Mobile.csv')\n",
    "df.head()"
   ]
  },
  {
   "cell_type": "code",
   "execution_count": 3,
   "metadata": {},
   "outputs": [
    {
     "data": {
      "text/plain": [
       "Index(['Product Name', 'Brand Name', 'Price', 'Rating', 'Reviews',\n",
       "       'Review Votes'],\n",
       "      dtype='object')"
      ]
     },
     "execution_count": 3,
     "metadata": {},
     "output_type": "execute_result"
    }
   ],
   "source": [
    "df.columns"
   ]
  },
  {
   "cell_type": "code",
   "execution_count": 4,
   "metadata": {},
   "outputs": [],
   "source": [
    "df.columns = [col.replace(\" \", \"_\") for col in df.columns]\n"
   ]
  },
  {
   "cell_type": "code",
   "execution_count": 5,
   "metadata": {},
   "outputs": [
    {
     "data": {
      "text/plain": [
       "Index(['Product_Name', 'Brand_Name', 'Price', 'Rating', 'Reviews',\n",
       "       'Review_Votes'],\n",
       "      dtype='object')"
      ]
     },
     "execution_count": 5,
     "metadata": {},
     "output_type": "execute_result"
    }
   ],
   "source": [
    "df.columns"
   ]
  },
  {
   "cell_type": "code",
   "execution_count": 22,
   "metadata": {},
   "outputs": [
    {
     "data": {
      "text/plain": [
       "Brand_Name\n",
       "Samsung          True\n",
       "BLU              True\n",
       "Apple            True\n",
       "LG               True\n",
       "BlackBerry       True\n",
       "                ...  \n",
       "M-HORSE         False\n",
       "ToShare Tech    False\n",
       "LeEco           False\n",
       "Danger Inc.     False\n",
       "Concox          False\n",
       "Name: count, Length: 384, dtype: bool"
      ]
     },
     "execution_count": 22,
     "metadata": {},
     "output_type": "execute_result"
    }
   ],
   "source": [
    "df.Brand_Name.value_counts()>5000"
   ]
  },
  {
   "cell_type": "code",
   "execution_count": 41,
   "metadata": {},
   "outputs": [
    {
     "data": {
      "text/html": [
       "<div>\n",
       "<style scoped>\n",
       "    .dataframe tbody tr th:only-of-type {\n",
       "        vertical-align: middle;\n",
       "    }\n",
       "\n",
       "    .dataframe tbody tr th {\n",
       "        vertical-align: top;\n",
       "    }\n",
       "\n",
       "    .dataframe thead th {\n",
       "        text-align: right;\n",
       "    }\n",
       "</style>\n",
       "<table border=\"1\" class=\"dataframe\">\n",
       "  <thead>\n",
       "    <tr style=\"text-align: right;\">\n",
       "      <th></th>\n",
       "      <th>Product_Name</th>\n",
       "      <th>Brand_Name</th>\n",
       "      <th>Price</th>\n",
       "      <th>Rating</th>\n",
       "      <th>Reviews</th>\n",
       "      <th>Review_Votes</th>\n",
       "    </tr>\n",
       "  </thead>\n",
       "  <tbody>\n",
       "    <tr>\n",
       "      <th>3081</th>\n",
       "      <td>Apple - Iphone 5c A1532 Verizon 16 GB Cell Pho...</td>\n",
       "      <td>Apple</td>\n",
       "      <td>33.00</td>\n",
       "      <td>5</td>\n",
       "      <td>Was a gift for my husband and he loves it. Rep...</td>\n",
       "      <td>5.0</td>\n",
       "    </tr>\n",
       "    <tr>\n",
       "      <th>3082</th>\n",
       "      <td>Apple - Iphone 5c A1532 Verizon 16 GB Cell Pho...</td>\n",
       "      <td>Apple</td>\n",
       "      <td>33.00</td>\n",
       "      <td>5</td>\n",
       "      <td>Great price, extremely fast shipping works as ...</td>\n",
       "      <td>1.0</td>\n",
       "    </tr>\n",
       "    <tr>\n",
       "      <th>3083</th>\n",
       "      <td>Apple - Iphone 5c A1532 Verizon 16 GB Cell Pho...</td>\n",
       "      <td>Apple</td>\n",
       "      <td>33.00</td>\n",
       "      <td>4</td>\n",
       "      <td>Moving from Android to Apple...my kids have th...</td>\n",
       "      <td>1.0</td>\n",
       "    </tr>\n",
       "    <tr>\n",
       "      <th>3084</th>\n",
       "      <td>Apple - Iphone 5c A1532 Verizon 16 GB Cell Pho...</td>\n",
       "      <td>Apple</td>\n",
       "      <td>33.00</td>\n",
       "      <td>4</td>\n",
       "      <td>It is compatible with Verizon. Not pink but PE...</td>\n",
       "      <td>0.0</td>\n",
       "    </tr>\n",
       "    <tr>\n",
       "      <th>3085</th>\n",
       "      <td>Apple - Iphone 5c A1532 Verizon 16 GB Cell Pho...</td>\n",
       "      <td>Apple</td>\n",
       "      <td>33.00</td>\n",
       "      <td>5</td>\n",
       "      <td>I love this phone! Thank you so much.</td>\n",
       "      <td>1.0</td>\n",
       "    </tr>\n",
       "    <tr>\n",
       "      <th>...</th>\n",
       "      <td>...</td>\n",
       "      <td>...</td>\n",
       "      <td>...</td>\n",
       "      <td>...</td>\n",
       "      <td>...</td>\n",
       "      <td>...</td>\n",
       "    </tr>\n",
       "    <tr>\n",
       "      <th>413835</th>\n",
       "      <td>Samsung Convoy U640 Phone for Verizon Wireless...</td>\n",
       "      <td>Samsung</td>\n",
       "      <td>79.95</td>\n",
       "      <td>5</td>\n",
       "      <td>another great deal great price</td>\n",
       "      <td>0.0</td>\n",
       "    </tr>\n",
       "    <tr>\n",
       "      <th>413836</th>\n",
       "      <td>Samsung Convoy U640 Phone for Verizon Wireless...</td>\n",
       "      <td>Samsung</td>\n",
       "      <td>79.95</td>\n",
       "      <td>3</td>\n",
       "      <td>Ok</td>\n",
       "      <td>0.0</td>\n",
       "    </tr>\n",
       "    <tr>\n",
       "      <th>413837</th>\n",
       "      <td>Samsung Convoy U640 Phone for Verizon Wireless...</td>\n",
       "      <td>Samsung</td>\n",
       "      <td>79.95</td>\n",
       "      <td>5</td>\n",
       "      <td>Passes every drop test onto porcelain tile!</td>\n",
       "      <td>0.0</td>\n",
       "    </tr>\n",
       "    <tr>\n",
       "      <th>413838</th>\n",
       "      <td>Samsung Convoy U640 Phone for Verizon Wireless...</td>\n",
       "      <td>Samsung</td>\n",
       "      <td>79.95</td>\n",
       "      <td>3</td>\n",
       "      <td>I returned it because it did not meet my needs...</td>\n",
       "      <td>0.0</td>\n",
       "    </tr>\n",
       "    <tr>\n",
       "      <th>413839</th>\n",
       "      <td>Samsung Convoy U640 Phone for Verizon Wireless...</td>\n",
       "      <td>Samsung</td>\n",
       "      <td>79.95</td>\n",
       "      <td>4</td>\n",
       "      <td>Only downside is that apparently Verizon no lo...</td>\n",
       "      <td>0.0</td>\n",
       "    </tr>\n",
       "  </tbody>\n",
       "</table>\n",
       "<p>233720 rows × 6 columns</p>\n",
       "</div>"
      ],
      "text/plain": [
       "                                             Product_Name Brand_Name  Price  \\\n",
       "3081    Apple - Iphone 5c A1532 Verizon 16 GB Cell Pho...      Apple  33.00   \n",
       "3082    Apple - Iphone 5c A1532 Verizon 16 GB Cell Pho...      Apple  33.00   \n",
       "3083    Apple - Iphone 5c A1532 Verizon 16 GB Cell Pho...      Apple  33.00   \n",
       "3084    Apple - Iphone 5c A1532 Verizon 16 GB Cell Pho...      Apple  33.00   \n",
       "3085    Apple - Iphone 5c A1532 Verizon 16 GB Cell Pho...      Apple  33.00   \n",
       "...                                                   ...        ...    ...   \n",
       "413835  Samsung Convoy U640 Phone for Verizon Wireless...    Samsung  79.95   \n",
       "413836  Samsung Convoy U640 Phone for Verizon Wireless...    Samsung  79.95   \n",
       "413837  Samsung Convoy U640 Phone for Verizon Wireless...    Samsung  79.95   \n",
       "413838  Samsung Convoy U640 Phone for Verizon Wireless...    Samsung  79.95   \n",
       "413839  Samsung Convoy U640 Phone for Verizon Wireless...    Samsung  79.95   \n",
       "\n",
       "        Rating                                            Reviews  \\\n",
       "3081         5  Was a gift for my husband and he loves it. Rep...   \n",
       "3082         5  Great price, extremely fast shipping works as ...   \n",
       "3083         4  Moving from Android to Apple...my kids have th...   \n",
       "3084         4  It is compatible with Verizon. Not pink but PE...   \n",
       "3085         5              I love this phone! Thank you so much.   \n",
       "...        ...                                                ...   \n",
       "413835       5                     another great deal great price   \n",
       "413836       3                                                 Ok   \n",
       "413837       5        Passes every drop test onto porcelain tile!   \n",
       "413838       3  I returned it because it did not meet my needs...   \n",
       "413839       4  Only downside is that apparently Verizon no lo...   \n",
       "\n",
       "        Review_Votes  \n",
       "3081             5.0  \n",
       "3082             1.0  \n",
       "3083             1.0  \n",
       "3084             0.0  \n",
       "3085             1.0  \n",
       "...              ...  \n",
       "413835           0.0  \n",
       "413836           0.0  \n",
       "413837           0.0  \n",
       "413838           0.0  \n",
       "413839           0.0  \n",
       "\n",
       "[233720 rows x 6 columns]"
      ]
     },
     "execution_count": 41,
     "metadata": {},
     "output_type": "execute_result"
    }
   ],
   "source": [
    "brand_counts = df['Brand_Name'].value_counts()\n",
    "brands_to_keep = brand_counts[brand_counts > 3000].index\n",
    "df_filtered = df[df['Brand_Name'].isin(brands_to_keep)]\n",
    "product_counts = df_filtered['Product_Name'].value_counts()\n",
    "products_to_keep = product_counts[product_counts > 200].index\n",
    "df_filtered = df_filtered[df_filtered['Product_Name'].isin(products_to_keep)] \n",
    "\n",
    "df_filtered\n"
   ]
  },
  {
   "cell_type": "code",
   "execution_count": 42,
   "metadata": {},
   "outputs": [
    {
     "data": {
      "text/plain": [
       "Index(['Product_Name', 'Brand_Name', 'Price', 'Rating', 'Reviews',\n",
       "       'Review_Votes'],\n",
       "      dtype='object')"
      ]
     },
     "execution_count": 42,
     "metadata": {},
     "output_type": "execute_result"
    }
   ],
   "source": [
    "df_filtered.columns"
   ]
  },
  {
   "cell_type": "code",
   "execution_count": 43,
   "metadata": {},
   "outputs": [
    {
     "data": {
      "text/plain": [
       "Brand_Name\n",
       "BLU               53338\n",
       "Apple             46544\n",
       "Samsung           45548\n",
       "LG                15538\n",
       "BlackBerry        13305\n",
       "CNPGD             12613\n",
       "Nokia             12218\n",
       "Motorola           8547\n",
       "HTC                7472\n",
       "OtterBox           6659\n",
       "Posh Mobile        4904\n",
       "LG Electronics     2854\n",
       "Sony               2830\n",
       "Huawei             1350\n",
       "Name: count, dtype: int64"
      ]
     },
     "execution_count": 43,
     "metadata": {},
     "output_type": "execute_result"
    }
   ],
   "source": [
    "df_filtered.Brand_Name.value_counts()"
   ]
  },
  {
   "cell_type": "code",
   "execution_count": 44,
   "metadata": {},
   "outputs": [
    {
     "data": {
      "text/plain": [
       "Product_Name\n",
       "BLU Studio 5.0 C HD Unlocked Cellphone, Black                                                                                 1194\n",
       "OtterBox Iphone 5/5S/SE Defender Case w/ Drop and Dust Proctection - Realtree AP Pink                                         1129\n",
       "Motorola Moto E (1st Generation) - Black - 4 GB - Global GSM Unlocked Phone                                                   1127\n",
       "Apple iPhone 5s 32GB (Silver) - AT&T                                                                                          1118\n",
       "BLU Energy X Plus Smartphone - With 4000 mAh Super Battery- US GSM Unlocked - Grey                                            1111\n",
       "                                                                                                                              ... \n",
       "Apple iPhone 6 (4.7 inch - diagonal), Silver, 16 GB (Sprint)                                                                   202\n",
       "Apple iPhone 6, Silver, 64 GB (Sprint)                                                                                         202\n",
       "VERIZON LG OCTANE CELL PHONE!                                                                                                  202\n",
       "Verizon Samsung Alias 2 U750 No Contract Dual-Flip e-ink QWERTY Phone Black                                                    202\n",
       "BlackBerry BOLD 9700 Smart Unlocked Phone, Quad Band, 3 MP Camera, Bluetooth, GPS, and 1 GB Internal Storage - No Warranty     201\n",
       "Name: count, Length: 491, dtype: int64"
      ]
     },
     "execution_count": 44,
     "metadata": {},
     "output_type": "execute_result"
    }
   ],
   "source": [
    "df_filtered.Product_Name.value_counts()"
   ]
  },
  {
   "cell_type": "code",
   "execution_count": 45,
   "metadata": {},
   "outputs": [
    {
     "data": {
      "text/plain": [
       "233720"
      ]
     },
     "execution_count": 45,
     "metadata": {},
     "output_type": "execute_result"
    }
   ],
   "source": [
    "df_filtered.Product_Name.count()"
   ]
  },
  {
   "cell_type": "code",
   "execution_count": 47,
   "metadata": {},
   "outputs": [
    {
     "data": {
      "text/plain": [
       "(233720, 6)"
      ]
     },
     "execution_count": 47,
     "metadata": {},
     "output_type": "execute_result"
    }
   ],
   "source": [
    "df_filtered.shape"
   ]
  },
  {
   "cell_type": "code",
   "execution_count": 48,
   "metadata": {},
   "outputs": [
    {
     "data": {
      "text/html": [
       "<div>\n",
       "<style scoped>\n",
       "    .dataframe tbody tr th:only-of-type {\n",
       "        vertical-align: middle;\n",
       "    }\n",
       "\n",
       "    .dataframe tbody tr th {\n",
       "        vertical-align: top;\n",
       "    }\n",
       "\n",
       "    .dataframe thead th {\n",
       "        text-align: right;\n",
       "    }\n",
       "</style>\n",
       "<table border=\"1\" class=\"dataframe\">\n",
       "  <thead>\n",
       "    <tr style=\"text-align: right;\">\n",
       "      <th></th>\n",
       "      <th>Product_Name</th>\n",
       "      <th>Brand_Name</th>\n",
       "      <th>Price</th>\n",
       "      <th>Rating</th>\n",
       "      <th>Reviews</th>\n",
       "      <th>Review_Votes</th>\n",
       "    </tr>\n",
       "  </thead>\n",
       "  <tbody>\n",
       "    <tr>\n",
       "      <th>3081</th>\n",
       "      <td>Apple - Iphone 5c A1532 Verizon 16 GB Cell Pho...</td>\n",
       "      <td>Apple</td>\n",
       "      <td>33.0</td>\n",
       "      <td>5</td>\n",
       "      <td>Was a gift for my husband and he loves it. Rep...</td>\n",
       "      <td>5.0</td>\n",
       "    </tr>\n",
       "    <tr>\n",
       "      <th>3082</th>\n",
       "      <td>Apple - Iphone 5c A1532 Verizon 16 GB Cell Pho...</td>\n",
       "      <td>Apple</td>\n",
       "      <td>33.0</td>\n",
       "      <td>5</td>\n",
       "      <td>Great price, extremely fast shipping works as ...</td>\n",
       "      <td>1.0</td>\n",
       "    </tr>\n",
       "    <tr>\n",
       "      <th>3083</th>\n",
       "      <td>Apple - Iphone 5c A1532 Verizon 16 GB Cell Pho...</td>\n",
       "      <td>Apple</td>\n",
       "      <td>33.0</td>\n",
       "      <td>4</td>\n",
       "      <td>Moving from Android to Apple...my kids have th...</td>\n",
       "      <td>1.0</td>\n",
       "    </tr>\n",
       "    <tr>\n",
       "      <th>3084</th>\n",
       "      <td>Apple - Iphone 5c A1532 Verizon 16 GB Cell Pho...</td>\n",
       "      <td>Apple</td>\n",
       "      <td>33.0</td>\n",
       "      <td>4</td>\n",
       "      <td>It is compatible with Verizon. Not pink but PE...</td>\n",
       "      <td>0.0</td>\n",
       "    </tr>\n",
       "    <tr>\n",
       "      <th>3085</th>\n",
       "      <td>Apple - Iphone 5c A1532 Verizon 16 GB Cell Pho...</td>\n",
       "      <td>Apple</td>\n",
       "      <td>33.0</td>\n",
       "      <td>5</td>\n",
       "      <td>I love this phone! Thank you so much.</td>\n",
       "      <td>1.0</td>\n",
       "    </tr>\n",
       "  </tbody>\n",
       "</table>\n",
       "</div>"
      ],
      "text/plain": [
       "                                           Product_Name Brand_Name  Price  \\\n",
       "3081  Apple - Iphone 5c A1532 Verizon 16 GB Cell Pho...      Apple   33.0   \n",
       "3082  Apple - Iphone 5c A1532 Verizon 16 GB Cell Pho...      Apple   33.0   \n",
       "3083  Apple - Iphone 5c A1532 Verizon 16 GB Cell Pho...      Apple   33.0   \n",
       "3084  Apple - Iphone 5c A1532 Verizon 16 GB Cell Pho...      Apple   33.0   \n",
       "3085  Apple - Iphone 5c A1532 Verizon 16 GB Cell Pho...      Apple   33.0   \n",
       "\n",
       "      Rating                                            Reviews  Review_Votes  \n",
       "3081       5  Was a gift for my husband and he loves it. Rep...           5.0  \n",
       "3082       5  Great price, extremely fast shipping works as ...           1.0  \n",
       "3083       4  Moving from Android to Apple...my kids have th...           1.0  \n",
       "3084       4  It is compatible with Verizon. Not pink but PE...           0.0  \n",
       "3085       5              I love this phone! Thank you so much.           1.0  "
      ]
     },
     "execution_count": 48,
     "metadata": {},
     "output_type": "execute_result"
    }
   ],
   "source": [
    "df_filtered.head()"
   ]
  },
  {
   "cell_type": "code",
   "execution_count": 49,
   "metadata": {},
   "outputs": [
    {
     "data": {
      "text/plain": [
       "Index(['Product_Name', 'Brand_Name', 'Price', 'Rating', 'Reviews',\n",
       "       'Review_Votes'],\n",
       "      dtype='object')"
      ]
     },
     "execution_count": 49,
     "metadata": {},
     "output_type": "execute_result"
    }
   ],
   "source": [
    "df_filtered.columns"
   ]
  },
  {
   "cell_type": "code",
   "execution_count": 50,
   "metadata": {},
   "outputs": [],
   "source": [
    "df_filtered = df_filtered[['Product_Name', 'Brand_Name', 'Reviews']]"
   ]
  },
  {
   "cell_type": "code",
   "execution_count": 51,
   "metadata": {},
   "outputs": [
    {
     "data": {
      "text/plain": [
       "Index(['Product_Name', 'Brand_Name', 'Reviews'], dtype='object')"
      ]
     },
     "execution_count": 51,
     "metadata": {},
     "output_type": "execute_result"
    }
   ],
   "source": [
    "df_filtered.columns"
   ]
  },
  {
   "cell_type": "code",
   "execution_count": 52,
   "metadata": {},
   "outputs": [
    {
     "data": {
      "text/html": [
       "<div>\n",
       "<style scoped>\n",
       "    .dataframe tbody tr th:only-of-type {\n",
       "        vertical-align: middle;\n",
       "    }\n",
       "\n",
       "    .dataframe tbody tr th {\n",
       "        vertical-align: top;\n",
       "    }\n",
       "\n",
       "    .dataframe thead th {\n",
       "        text-align: right;\n",
       "    }\n",
       "</style>\n",
       "<table border=\"1\" class=\"dataframe\">\n",
       "  <thead>\n",
       "    <tr style=\"text-align: right;\">\n",
       "      <th></th>\n",
       "      <th>Product_Name</th>\n",
       "      <th>Brand_Name</th>\n",
       "      <th>Reviews</th>\n",
       "    </tr>\n",
       "  </thead>\n",
       "  <tbody>\n",
       "    <tr>\n",
       "      <th>3081</th>\n",
       "      <td>Apple - Iphone 5c A1532 Verizon 16 GB Cell Pho...</td>\n",
       "      <td>Apple</td>\n",
       "      <td>Was a gift for my husband and he loves it. Rep...</td>\n",
       "    </tr>\n",
       "    <tr>\n",
       "      <th>3082</th>\n",
       "      <td>Apple - Iphone 5c A1532 Verizon 16 GB Cell Pho...</td>\n",
       "      <td>Apple</td>\n",
       "      <td>Great price, extremely fast shipping works as ...</td>\n",
       "    </tr>\n",
       "    <tr>\n",
       "      <th>3083</th>\n",
       "      <td>Apple - Iphone 5c A1532 Verizon 16 GB Cell Pho...</td>\n",
       "      <td>Apple</td>\n",
       "      <td>Moving from Android to Apple...my kids have th...</td>\n",
       "    </tr>\n",
       "    <tr>\n",
       "      <th>3084</th>\n",
       "      <td>Apple - Iphone 5c A1532 Verizon 16 GB Cell Pho...</td>\n",
       "      <td>Apple</td>\n",
       "      <td>It is compatible with Verizon. Not pink but PE...</td>\n",
       "    </tr>\n",
       "    <tr>\n",
       "      <th>3085</th>\n",
       "      <td>Apple - Iphone 5c A1532 Verizon 16 GB Cell Pho...</td>\n",
       "      <td>Apple</td>\n",
       "      <td>I love this phone! Thank you so much.</td>\n",
       "    </tr>\n",
       "  </tbody>\n",
       "</table>\n",
       "</div>"
      ],
      "text/plain": [
       "                                           Product_Name Brand_Name  \\\n",
       "3081  Apple - Iphone 5c A1532 Verizon 16 GB Cell Pho...      Apple   \n",
       "3082  Apple - Iphone 5c A1532 Verizon 16 GB Cell Pho...      Apple   \n",
       "3083  Apple - Iphone 5c A1532 Verizon 16 GB Cell Pho...      Apple   \n",
       "3084  Apple - Iphone 5c A1532 Verizon 16 GB Cell Pho...      Apple   \n",
       "3085  Apple - Iphone 5c A1532 Verizon 16 GB Cell Pho...      Apple   \n",
       "\n",
       "                                                Reviews  \n",
       "3081  Was a gift for my husband and he loves it. Rep...  \n",
       "3082  Great price, extremely fast shipping works as ...  \n",
       "3083  Moving from Android to Apple...my kids have th...  \n",
       "3084  It is compatible with Verizon. Not pink but PE...  \n",
       "3085              I love this phone! Thank you so much.  "
      ]
     },
     "execution_count": 52,
     "metadata": {},
     "output_type": "execute_result"
    }
   ],
   "source": [
    "df_filtered.head()"
   ]
  },
  {
   "cell_type": "code",
   "execution_count": 70,
   "metadata": {},
   "outputs": [],
   "source": [
    "df_filtered.to_csv('filtered_data.csv', index=False)\n"
   ]
  },
  {
   "cell_type": "code",
   "execution_count": 62,
   "metadata": {},
   "outputs": [],
   "source": [
    "import torch\n",
    "from transformers import AutoTokenizer, BertForSequenceClassification,pipeline\n",
    "model_name=\"nlptown/bert-base-multilingual-uncased-sentiment\"\n",
    "tokenizer=AutoTokenizer.from_pretrained(model_name)\n",
    "model=BertForSequenceClassification.from_pretrained(model_name)"
   ]
  },
  {
   "cell_type": "code",
   "execution_count": 64,
   "metadata": {},
   "outputs": [
    {
     "name": "stderr",
     "output_type": "stream",
     "text": [
      "Device set to use cpu\n"
     ]
    }
   ],
   "source": [
    "sentiment_model = pipeline(\"text-classification\", model=model,tokenizer=tokenizer)"
   ]
  },
  {
   "cell_type": "code",
   "execution_count": 68,
   "metadata": {},
   "outputs": [],
   "source": [
    "def get_sentiment(review):\n",
    "    if not isinstance(review, str) or review.strip() == \"\":  \n",
    "        return None  # Return None for empty or non-string reviews\n",
    "\n",
    "    try:\n",
    "        # Ensure review is within 512-token limit\n",
    "        result = sentiment_model(review[:512])[0]  \n",
    "        stars = int(result[\"label\"].split()[0])  # Extract star rating (1-5)\n",
    "        return stars\n",
    "    except Exception as e:\n",
    "        print(f\"Error processing review: {review[:100]}... | Error: {e}\")\n",
    "        return None  # Return None for errors\n"
   ]
  },
  {
   "cell_type": "markdown",
   "metadata": {},
   "source": [
    "Because of some hardware lack i am unable to complete this if it is usefull for you then it will be good"
   ]
  },
  {
   "cell_type": "markdown",
   "metadata": {},
   "source": [
    "I am tried various method for aspect extraction and then sentimental analysis on those aspects but it take too long time "
   ]
  },
  {
   "cell_type": "code",
   "execution_count": null,
   "metadata": {},
   "outputs": [],
   "source": []
  }
 ],
 "metadata": {
  "kernelspec": {
   "display_name": ".venv",
   "language": "python",
   "name": "python3"
  },
  "language_info": {
   "codemirror_mode": {
    "name": "ipython",
    "version": 3
   },
   "file_extension": ".py",
   "mimetype": "text/x-python",
   "name": "python",
   "nbconvert_exporter": "python",
   "pygments_lexer": "ipython3",
   "version": "3.12.4"
  }
 },
 "nbformat": 4,
 "nbformat_minor": 2
}
