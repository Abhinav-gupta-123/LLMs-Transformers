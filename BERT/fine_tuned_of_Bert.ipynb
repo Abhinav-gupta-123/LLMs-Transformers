{
 "cells": [
  {
   "cell_type": "code",
   "execution_count": 1,
   "metadata": {},
   "outputs": [
    {
     "name": "stdout",
     "output_type": "stream",
     "text": [
      "Review: This is the best product I've ever used! → Sentiment: {'label': 'Positive', 'scores': [0.0011389333521947265, 0.9988610744476318]}\n",
      "Review: Horrible experience, I will never buy this again. → Sentiment: {'label': 'Negative', 'scores': [0.9994970560073853, 0.0005029566818848252]}\n",
      "Review: It's okay, not great but not terrible either. → Sentiment: {'label': 'Negative', 'scores': [0.994532585144043, 0.0054673790000379086]}\n"
     ]
    }
   ],
   "source": [
    "from transformers import AutoTokenizer, AutoModelForSequenceClassification\n",
    "import torch\n",
    "\n",
    "# Load the advanced sentiment model\n",
    "model_name = \"siebert/sentiment-roberta-large-english\"\n",
    "tokenizer = AutoTokenizer.from_pretrained(model_name)\n",
    "model = AutoModelForSequenceClassification.from_pretrained(model_name)\n",
    "\n",
    "def classify_advanced_sentiment(text):\n",
    "    tokens = tokenizer(text, return_tensors=\"pt\", truncation=True, padding=True)\n",
    "    \n",
    "    with torch.no_grad():\n",
    "        output = model(**tokens)\n",
    "    \n",
    "    probabilities = torch.nn.functional.softmax(output.logits, dim=-1)\n",
    "    labels = [\"Negative\", \"Positive\"]\n",
    "    \n",
    "    return {\"label\": labels[torch.argmax(probabilities)], \"scores\": probabilities.squeeze().tolist()}\n",
    "\n",
    "# Test the advanced model\n",
    "reviews = [\n",
    "    \"This is the best product I've ever used!\",\n",
    "    \"Horrible experience, I will never buy this again.\",\n",
    "    \"It's okay, not great but not terrible either.\"\n",
    "]\n",
    "\n",
    "for review in reviews:\n",
    "    print(f\"Review: {review} → Sentiment: {classify_advanced_sentiment(review)}\")\n"
   ]
  },
  {
   "cell_type": "code",
   "execution_count": null,
   "metadata": {},
   "outputs": [],
   "source": []
  }
 ],
 "metadata": {
  "kernelspec": {
   "display_name": ".venv",
   "language": "python",
   "name": "python3"
  },
  "language_info": {
   "codemirror_mode": {
    "name": "ipython",
    "version": 3
   },
   "file_extension": ".py",
   "mimetype": "text/x-python",
   "name": "python",
   "nbconvert_exporter": "python",
   "pygments_lexer": "ipython3",
   "version": "3.12.4"
  }
 },
 "nbformat": 4,
 "nbformat_minor": 2
}
