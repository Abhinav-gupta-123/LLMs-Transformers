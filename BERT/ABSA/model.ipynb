{
 "cells": [
  {
   "cell_type": "code",
   "execution_count": 14,
   "metadata": {},
   "outputs": [
    {
     "name": "stdout",
     "output_type": "stream",
     "text": [
      "Loading ABSA model: english\n",
      "[2025-04-04 20:31:48] (2.4.1) ********** Available ATEPC model checkpoints for Version:2.4.1 (this version) **********\n",
      "[2025-04-04 20:31:48] (2.4.1) ********** Available ATEPC model checkpoints for Version:2.4.1 (this version) **********\n",
      "[2025-04-04 20:31:48] (2.4.1) Downloading checkpoint:english \n",
      "[2025-04-04 20:31:48] (2.4.1) Notice: The pretrained model are used for testing, it is recommended to train the model on your own custom datasets\n",
      "[2025-04-04 20:31:48] (2.4.1) Checkpoint already downloaded, skip\n",
      "[2025-04-04 20:31:48] (2.4.1) Load aspect extractor from checkpoints\\ATEPC_ENGLISH_CHECKPOINT\\fast_lcf_atepc_English_cdw_apcacc_82.36_apcf1_81.89_atef1_75.43\n",
      "[2025-04-04 20:31:48] (2.4.1) config: checkpoints\\ATEPC_ENGLISH_CHECKPOINT\\fast_lcf_atepc_English_cdw_apcacc_82.36_apcf1_81.89_atef1_75.43\\fast_lcf_atepc.config\n",
      "[2025-04-04 20:31:48] (2.4.1) state_dict: checkpoints\\ATEPC_ENGLISH_CHECKPOINT\\fast_lcf_atepc_English_cdw_apcacc_82.36_apcf1_81.89_atef1_75.43\\fast_lcf_atepc.state_dict\n",
      "[2025-04-04 20:31:48] (2.4.1) model: None\n",
      "[2025-04-04 20:31:48] (2.4.1) tokenizer: checkpoints\\ATEPC_ENGLISH_CHECKPOINT\\fast_lcf_atepc_English_cdw_apcacc_82.36_apcf1_81.89_atef1_75.43\\fast_lcf_atepc.tokenizer\n",
      "[2025-04-04 20:31:48] (2.4.1) Set Model Device: cpu\n",
      "[2025-04-04 20:31:48] (2.4.1) Device Name: Unknown\n"
     ]
    },
    {
     "name": "stderr",
     "output_type": "stream",
     "text": [
      "c:\\Users\\abhin\\Desktop\\.venv\\Lib\\site-packages\\transformers\\convert_slow_tokenizer.py:561: UserWarning: The sentencepiece tokenizer that you are converting to a fast tokenizer uses the byte fallback option which is not implemented in the fast tokenizers. In practice this means that the fast version of the tokenizer can produce unknown tokens whereas the sentencepiece version would have converted these unknown tokens into a sequence of byte tokens matching the original piece of text.\n",
      "  warnings.warn(\n"
     ]
    },
    {
     "name": "stdout",
     "output_type": "stream",
     "text": [
      "[2025-04-04 20:32:03] (2.4.1) The results of aspect term extraction have been saved in c:\\Users\\abhin\\Desktop\\NLP\\phase1\\transformers_and_contextual_embeddings\\BERT\\ABSA\\Aspect Term Extraction and Polarity Classification.FAST_LCF_ATEPC.result.json\n",
      "[2025-04-04 20:32:03] (2.4.1) Example 0: Camera takes excellent <photos:Positive Confidence:0.8647> but <battery:Negative Confidence:0.8293> drains quickly .\n",
      "[2025-04-04 20:32:03] (2.4.1) Example 1: The <display colors:Negative Confidence:0.9404> look washed out in sunlight .\n",
      "[2025-04-04 20:32:03] (2.4.1) Example 2: Speakers produce clear <audio:Positive Confidence:0.9744> with good <bass:Positive Confidence:0.9666> .\n",
      "[2025-04-04 20:32:03] (2.4.1) Example 3: Charging is fast but the phone heats up .\n",
      "[2025-04-04 20:32:03] (2.4.1) Example 4: Design is sleek but <screen:Negative Confidence:0.8734> gets scratched easily .\n",
      "                                                text  \\\n",
      "0  Camera takes excellent photos but battery drai...   \n",
      "1   The display colors look washed out in sunlight .   \n",
      "2      Speakers produce clear audio with good bass .   \n",
      "3          Charging is fast but the phone heats up .   \n",
      "4  Design is sleek but screen gets scratched easi...   \n",
      "\n",
      "                     aspects  \\\n",
      "0  [Camera, photos, battery]   \n",
      "1           [display colors]   \n",
      "2    [Speakers, audio, bass]   \n",
      "3                 [Charging]   \n",
      "4           [Design, screen]   \n",
      "\n",
      "                                          sentiments  \n",
      "0  {'Camera': 'Positive', 'photos': 'Positive', '...  \n",
      "1                     {'display colors': 'Negative'}  \n",
      "2  {'Speakers': 'Positive', 'audio': 'Positive', ...  \n",
      "3                           {'Charging': 'Positive'}  \n",
      "4       {'Design': 'Positive', 'screen': 'Negative'}  \n"
     ]
    }
   ],
   "source": [
    "import pandas as pd\n",
    "from pyabsa import ATEPCCheckpointManager\n",
    "\n",
    "checkpoint = 'english' #there are other predefines models in checkpoint like multilingual etc,we can also use advanced model like english bert base for ABSA from hugging face\n",
    "print(f\"Loading ABSA model: {checkpoint}\")\n",
    "aspect_extractor = ATEPCCheckpointManager.get_aspect_extractor(checkpoint=checkpoint)\n",
    "\n",
    "class ABSA_Transformers_PyABSA:\n",
    "    def __init__(self):\n",
    "        self.model = aspect_extractor\n",
    "\n",
    "    def process_batch(self, texts):\n",
    "        results = []\n",
    "        outputs = self.model.extract_aspect(inference_source=texts, pred_sentiment=True)\n",
    "\n",
    "        for output in outputs:\n",
    "            sentence = output.get('sentence', '')\n",
    "            aspects = output.get('aspect', [])\n",
    "            sentiments = output.get('sentiment', [])\n",
    "\n",
    "            sentiment_dict = {\n",
    "                aspect: sentiment\n",
    "                for aspect, sentiment in zip(aspects, sentiments)\n",
    "            }\n",
    "\n",
    "            results.append({\n",
    "                'text': sentence,\n",
    "                'aspects': aspects,\n",
    "                'sentiments': sentiment_dict\n",
    "            })\n",
    "\n",
    "        return pd.DataFrame(results)\n",
    "\n",
    "\n",
    "if __name__ == \"__main__\":\n",
    "    reviews = [\n",
    "        \"Camera takes excellent photos but battery drains quickly.\",\n",
    "        \"The display colors look washed out in sunlight.\",\n",
    "        \"Speakers produce clear audio with good bass.\",\n",
    "        \"Charging is fast but the phone heats up.\",\n",
    "        \"Design is sleek but screen gets scratched easily.\"\n",
    "    ]\n",
    "\n",
    "    absa_pipeline = ABSA_Transformers_PyABSA()\n",
    "    df = absa_pipeline.process_batch(reviews)\n",
    "\n",
    "    # Save CSV file\n",
    "    df.to_csv(\"absa_pyabsa_results.csv\", index=False)\n",
    "    print(df.head())\n"
   ]
  },
  {
   "cell_type": "code",
   "execution_count": null,
   "metadata": {},
   "outputs": [],
   "source": []
  },
  {
   "cell_type": "code",
   "execution_count": null,
   "metadata": {},
   "outputs": [],
   "source": []
  }
 ],
 "metadata": {
  "kernelspec": {
   "display_name": ".venv",
   "language": "python",
   "name": "python3"
  },
  "language_info": {
   "codemirror_mode": {
    "name": "ipython",
    "version": 3
   },
   "file_extension": ".py",
   "mimetype": "text/x-python",
   "name": "python",
   "nbconvert_exporter": "python",
   "pygments_lexer": "ipython3",
   "version": "3.12.4"
  }
 },
 "nbformat": 4,
 "nbformat_minor": 2
}
